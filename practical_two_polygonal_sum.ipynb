{
 "cells": [
  {
   "cell_type": "markdown",
   "metadata": {},
   "source": [
    "First, let's set up the definition of practical numbers and the list of practical numbers below $10^8$."
   ]
  },
  {
   "cell_type": "code",
   "execution_count": 1,
   "metadata": {},
   "outputs": [],
   "source": [
    "from sympy import factorint\n",
    "\n",
    "#Definition of practical numbers (modified from OEIS A005153)\n",
    "def is_practical(n):\n",
    "    if n & 1:\n",
    "        return n == 1\n",
    "    if n%4 != 0 and n%3!=0:\n",
    "        return n==2\n",
    "    f = factorint(n)\n",
    "    P = (2 << f.pop(2)) - 1\n",
    "    for p in f:\n",
    "        if p > 1 + P:\n",
    "            return False\n",
    "        P *= p**(f[p] + 1) // (p - 1)\n",
    "    return True"
   ]
  },
  {
   "cell_type": "code",
   "execution_count": 2,
   "metadata": {},
   "outputs": [],
   "source": [
    "limit = 10**8\n",
    "\n",
    "#List of practical numbers below 10^8\n",
    "practical_numbers_list = [n for n in range(1, limit+1) if is_practical(n)]\n",
    "practical_numbers_set = set(practical_numbers_list)"
   ]
  },
  {
   "cell_type": "markdown",
   "metadata": {},
   "source": [
    "Now let's verify that all natural numbers below $10^8$ can be written as a sum of a practical number and two $s$-gonal numbers for $s \\in \\{4,5,6,7,8,10\\}$."
   ]
  },
  {
   "cell_type": "code",
   "execution_count": 3,
   "metadata": {},
   "outputs": [
    {
     "name": "stdout",
     "output_type": "stream",
     "text": [
      "0 natural numbers below 100,000,000 cannot be written as a sum of a practical number and two 4-gonal numbers.\n"
     ]
    }
   ],
   "source": [
    "#List of polygonal numbers\n",
    "s=4\n",
    "polygon_num_list = [(s-2)*x*(x-1)/2+x for x in range(0, round(limit**0.5)+2)]\n",
    "\n",
    "#Generate set of numbers not expressible as a sum\n",
    "non_sums = set()\n",
    "for target in range(1,limit+1):\n",
    "    not_sum = True\n",
    "    for i, polygon_num in enumerate(polygon_num_list):\n",
    "        if polygon_num > target or not_sum == False:\n",
    "            break\n",
    "        else: \n",
    "            len_l = len(polygon_num_list)\n",
    "            l2 = polygon_num_list[i:len_l]\n",
    "            if polygon_num*2 > target:\n",
    "                break\n",
    "            for polygon_num_2 in l2:\n",
    "                if polygon_num_2 > target - polygon_num:\n",
    "                    break\n",
    "                if target - polygon_num - polygon_num_2 in practical_numbers_set:\n",
    "                    not_sum = False\n",
    "                    break\n",
    "    if not_sum:\n",
    "        non_sums.add(target)  \n",
    "\n",
    "print(len(non_sums), 'natural numbers below 100,000,000 cannot be written as a sum of a practical number and two {}-gonal numbers.'.format(s))"
   ]
  },
  {
   "cell_type": "code",
   "execution_count": 4,
   "metadata": {},
   "outputs": [
    {
     "name": "stdout",
     "output_type": "stream",
     "text": [
      "0 natural numbers below 100,000,000 cannot be written as a sum of a practical number and two 5-gonal numbers.\n"
     ]
    }
   ],
   "source": [
    "#List of polygonal numbers\n",
    "s=5\n",
    "polygon_num_list = [(s-2)*x*(x-1)/2+x for x in range(0, round(limit**0.5)+2)]\n",
    "\n",
    "#Generate set of numbers not expressible as a sum\n",
    "non_sums = set()\n",
    "for target in range(1,limit+1):\n",
    "    not_sum = True\n",
    "    for i, polygon_num in enumerate(polygon_num_list):\n",
    "        if polygon_num > target or not_sum == False:\n",
    "            break\n",
    "        else: \n",
    "            len_l = len(polygon_num_list)\n",
    "            l2 = polygon_num_list[i:len_l]\n",
    "            if polygon_num*2 > target:\n",
    "                break\n",
    "            for polygon_num_2 in l2:\n",
    "                if polygon_num_2 > target - polygon_num:\n",
    "                    break\n",
    "                if target - polygon_num - polygon_num_2 in practical_numbers_set:\n",
    "                    not_sum = False\n",
    "                    break\n",
    "    if not_sum:\n",
    "        non_sums.add(target)  \n",
    "\n",
    "print(len(non_sums), 'natural numbers below 100,000,000 cannot be written as a sum of a practical number and two {}-gonal numbers.'.format(s))"
   ]
  },
  {
   "cell_type": "code",
   "execution_count": 5,
   "metadata": {},
   "outputs": [
    {
     "name": "stdout",
     "output_type": "stream",
     "text": [
      "0 natural numbers below 100,000,000 cannot be written as a sum of a practical number and two 6-gonal numbers.\n"
     ]
    }
   ],
   "source": [
    "#List of polygonal numbers\n",
    "s=6\n",
    "polygon_num_list = [(s-2)*x*(x-1)/2+x for x in range(0, round(limit**0.5)+2)]\n",
    "\n",
    "#Generate set of numbers not expressible as a sum\n",
    "non_sums = set()\n",
    "for target in range(1,limit+1):\n",
    "    not_sum = True\n",
    "    for i, polygon_num in enumerate(polygon_num_list):\n",
    "        if polygon_num > target or not_sum == False:\n",
    "            break\n",
    "        else: \n",
    "            len_l = len(polygon_num_list)\n",
    "            l2 = polygon_num_list[i:len_l]\n",
    "            if polygon_num*2 > target:\n",
    "                break\n",
    "            for polygon_num_2 in l2:\n",
    "                if polygon_num_2 > target - polygon_num:\n",
    "                    break\n",
    "                if target - polygon_num - polygon_num_2 in practical_numbers_set:\n",
    "                    not_sum = False\n",
    "                    break\n",
    "    if not_sum:\n",
    "        non_sums.add(target)  \n",
    "\n",
    "print(len(non_sums), 'natural numbers below 100,000,000 cannot be written as a sum of a practical number and two {}-gonal numbers.'.format(s))"
   ]
  },
  {
   "cell_type": "code",
   "execution_count": 6,
   "metadata": {},
   "outputs": [
    {
     "name": "stdout",
     "output_type": "stream",
     "text": [
      "0 natural numbers below 100,000,000 cannot be written as a sum of a practical number and two 7-gonal numbers.\n"
     ]
    }
   ],
   "source": [
    "#List of polygonal numbers\n",
    "s=7\n",
    "polygon_num_list = [(s-2)*x*(x-1)/2+x for x in range(0, round(limit**0.5)+2)]\n",
    "\n",
    "#Generate set of numbers not expressible as a sum\n",
    "non_sums = set()\n",
    "for target in range(1,limit+1):\n",
    "    not_sum = True\n",
    "    for i, polygon_num in enumerate(polygon_num_list):\n",
    "        if polygon_num > target or not_sum == False:\n",
    "            break\n",
    "        else: \n",
    "            len_l = len(polygon_num_list)\n",
    "            l2 = polygon_num_list[i:len_l]\n",
    "            if polygon_num*2 > target:\n",
    "                break\n",
    "            for polygon_num_2 in l2:\n",
    "                if polygon_num_2 > target - polygon_num:\n",
    "                    break\n",
    "                if target - polygon_num - polygon_num_2 in practical_numbers_set:\n",
    "                    not_sum = False\n",
    "                    break\n",
    "    if not_sum:\n",
    "        non_sums.add(target)  \n",
    "\n",
    "print(len(non_sums), 'natural numbers below 100,000,000 cannot be written as a sum of a practical number and two {}-gonal numbers.'.format(s))"
   ]
  },
  {
   "cell_type": "code",
   "execution_count": 7,
   "metadata": {},
   "outputs": [
    {
     "name": "stdout",
     "output_type": "stream",
     "text": [
      "0 natural numbers below 100,000,000 cannot be written as a sum of a practical number and two 8-gonal numbers.\n"
     ]
    }
   ],
   "source": [
    "#List of polygonal numbers\n",
    "s=8\n",
    "polygon_num_list = [(s-2)*x*(x-1)/2+x for x in range(0, round(limit**0.5)+2)]\n",
    "\n",
    "#Generate set of numbers not expressible as a sum\n",
    "non_sums = set()\n",
    "for target in range(1,limit+1):\n",
    "    not_sum = True\n",
    "    for i, polygon_num in enumerate(polygon_num_list):\n",
    "        if polygon_num > target or not_sum == False:\n",
    "            break\n",
    "        else: \n",
    "            len_l = len(polygon_num_list)\n",
    "            l2 = polygon_num_list[i:len_l]\n",
    "            if polygon_num*2 > target:\n",
    "                break\n",
    "            for polygon_num_2 in l2:\n",
    "                if polygon_num_2 > target - polygon_num:\n",
    "                    break\n",
    "                if target - polygon_num - polygon_num_2 in practical_numbers_set:\n",
    "                    not_sum = False\n",
    "                    break\n",
    "    if not_sum:\n",
    "        non_sums.add(target)  \n",
    "\n",
    "print(len(non_sums), 'natural numbers below 100,000,000 cannot be written as a sum of a practical number and two {}-gonal numbers.'.format(s))"
   ]
  },
  {
   "cell_type": "code",
   "execution_count": 8,
   "metadata": {},
   "outputs": [
    {
     "name": "stdout",
     "output_type": "stream",
     "text": [
      "0 natural numbers below 100,000,000 cannot be written as a sum of a practical number and two 10-gonal numbers.\n"
     ]
    }
   ],
   "source": [
    "#List of polygonal numbers\n",
    "s=10\n",
    "polygon_num_list = [(s-2)*x*(x-1)/2+x for x in range(0, round(limit**0.5)+2)]\n",
    "\n",
    "#Generate set of numbers not expressible as a sum\n",
    "non_sums = set()\n",
    "for target in range(1,limit+1):\n",
    "    not_sum = True\n",
    "    for i, polygon_num in enumerate(polygon_num_list):\n",
    "        if polygon_num > target or not_sum == False:\n",
    "            break\n",
    "        else: \n",
    "            len_l = len(polygon_num_list)\n",
    "            l2 = polygon_num_list[i:len_l]\n",
    "            if polygon_num*2 > target:\n",
    "                break\n",
    "            for polygon_num_2 in l2:\n",
    "                if polygon_num_2 > target - polygon_num:\n",
    "                    break\n",
    "                if target - polygon_num - polygon_num_2 in practical_numbers_set:\n",
    "                    not_sum = False\n",
    "                    break\n",
    "    if not_sum:\n",
    "        non_sums.add(target)  \n",
    "\n",
    "print(len(non_sums), 'natural numbers below 100,000,000 cannot be written as a sum of a practical number and two {}-gonal numbers.'.format(s))"
   ]
  }
 ],
 "metadata": {
  "kernelspec": {
   "display_name": "base",
   "language": "python",
   "name": "python3"
  },
  "language_info": {
   "codemirror_mode": {
    "name": "ipython",
    "version": 3
   },
   "file_extension": ".py",
   "mimetype": "text/x-python",
   "name": "python",
   "nbconvert_exporter": "python",
   "pygments_lexer": "ipython3",
   "version": "3.11.5"
  }
 },
 "nbformat": 4,
 "nbformat_minor": 2
}
