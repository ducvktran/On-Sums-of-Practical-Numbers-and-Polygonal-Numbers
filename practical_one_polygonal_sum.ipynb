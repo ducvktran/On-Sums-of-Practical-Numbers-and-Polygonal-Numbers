{
 "cells": [
  {
   "cell_type": "markdown",
   "metadata": {},
   "source": [
    "First, let's set up the definition of practical numbers and the list of practical numbers below $10^8$."
   ]
  },
  {
   "cell_type": "code",
   "execution_count": 1,
   "metadata": {},
   "outputs": [],
   "source": [
    "from sympy import factorint\n",
    "\n",
    "#Definition of practical numbers (modified from OEIS A005153)\n",
    "def is_practical(n):\n",
    "    if n & 1:\n",
    "        return n == 1\n",
    "    if n%4 != 0 and n%3!=0:\n",
    "        return n==2\n",
    "    f = factorint(n)\n",
    "    P = (2 << f.pop(2)) - 1\n",
    "    for p in f:\n",
    "        if p > 1 + P:\n",
    "            return False\n",
    "        P *= p**(f[p] + 1) // (p - 1)\n",
    "    return True"
   ]
  },
  {
   "cell_type": "code",
   "execution_count": 2,
   "metadata": {},
   "outputs": [],
   "source": [
    "limit = 10**8\n",
    "\n",
    "#List of practical numbers below 10^8\n",
    "practical_numbers_list = [n for n in range(1, limit+1) if is_practical(n)]\n",
    "practical_numbers_set = set(practical_numbers_list)"
   ]
  },
  {
   "cell_type": "markdown",
   "metadata": {},
   "source": [
    "For each natural number $s>3$, let $n_s$ be the number of natural numbers below $10^8$ that cannot be written as a sum of a practical number and an $s$-gonal number, and let $N_s$ be the largest number below $10^8$ that cannot be written as a sum of a practical number and an $s$-gonal number. We have the following results for $4 \\leq s \\leq 18$."
   ]
  },
  {
   "cell_type": "code",
   "execution_count": 3,
   "metadata": {},
   "outputs": [
    {
     "name": "stdout",
     "output_type": "stream",
     "text": [
      "n_4 = 17929061\n",
      "N_4 = 99999998\n"
     ]
    }
   ],
   "source": [
    "#List of polygonal numbers\n",
    "s=4\n",
    "polygon_num_list = [(s-2)*x*(x-1)/2+x for x in range(0, round(limit**0.5)+2)]\n",
    "\n",
    "#Generate set of numbers not expressible as a sum\n",
    "non_sums = set()\n",
    "for target in range(1,limit+1):\n",
    "    not_sum = True\n",
    "    for polygon_num in polygon_num_list:\n",
    "        if polygon_num > target:\n",
    "            break\n",
    "        if target - polygon_num in practical_numbers_set:\n",
    "            not_sum = False\n",
    "            break\n",
    "    if not_sum:\n",
    "        non_sums.add(target)\n",
    "\n",
    "print('n_{} ='.format(s), len(non_sums))\n",
    "print('N_{} ='.format(s), max(non_sums))"
   ]
  },
  {
   "cell_type": "code",
   "execution_count": 4,
   "metadata": {},
   "outputs": [
    {
     "name": "stdout",
     "output_type": "stream",
     "text": [
      "n_5 = 13\n",
      "N_5 = 2671\n"
     ]
    }
   ],
   "source": [
    "#List of polygonal numbers\n",
    "s=5\n",
    "polygon_num_list = [(s-2)*x*(x-1)/2+x for x in range(0, round(limit**0.5)+2)]\n",
    "\n",
    "#Generate set of numbers not expressible as a sum\n",
    "non_sums = set()\n",
    "for target in range(1,limit+1):\n",
    "    not_sum = True\n",
    "    for polygon_num in polygon_num_list:\n",
    "        if polygon_num > target:\n",
    "            break\n",
    "        if target - polygon_num in practical_numbers_set:\n",
    "            not_sum = False\n",
    "            break\n",
    "    if not_sum:\n",
    "        non_sums.add(target)\n",
    "\n",
    "print('n_{} ='.format(s), len(non_sums))\n",
    "print('N_{} ='.format(s), max(non_sums))"
   ]
  },
  {
   "cell_type": "code",
   "execution_count": 5,
   "metadata": {},
   "outputs": [
    {
     "name": "stdout",
     "output_type": "stream",
     "text": [
      "n_6 = 101\n",
      "N_6 = 1332329\n"
     ]
    }
   ],
   "source": [
    "#List of polygonal numbers\n",
    "s=6\n",
    "polygon_num_list = [(s-2)*x*(x-1)/2+x for x in range(0, round(limit**0.5)+2)]\n",
    "\n",
    "#Generate set of numbers not expressible as a sum\n",
    "non_sums = set()\n",
    "for target in range(1,limit+1):\n",
    "    not_sum = True\n",
    "    for polygon_num in polygon_num_list:\n",
    "        if polygon_num > target:\n",
    "            break\n",
    "        if target - polygon_num in practical_numbers_set:\n",
    "            not_sum = False\n",
    "            break\n",
    "    if not_sum:\n",
    "        non_sums.add(target)\n",
    "\n",
    "print('n_{} ='.format(s), len(non_sums))\n",
    "print('N_{} ='.format(s), max(non_sums))"
   ]
  },
  {
   "cell_type": "code",
   "execution_count": 6,
   "metadata": {},
   "outputs": [
    {
     "name": "stdout",
     "output_type": "stream",
     "text": [
      "n_7 = 73\n",
      "N_7 = 79445\n"
     ]
    }
   ],
   "source": [
    "#List of polygonal numbers\n",
    "s=7\n",
    "polygon_num_list = [(s-2)*x*(x-1)/2+x for x in range(0, round(limit**0.5)+2)]\n",
    "\n",
    "#Generate set of numbers not expressible as a sum\n",
    "non_sums = set()\n",
    "for target in range(1,limit+1):\n",
    "    not_sum = True\n",
    "    for polygon_num in polygon_num_list:\n",
    "        if polygon_num > target:\n",
    "            break\n",
    "        if target - polygon_num in practical_numbers_set:\n",
    "            not_sum = False\n",
    "            break\n",
    "    if not_sum:\n",
    "        non_sums.add(target)\n",
    "\n",
    "print('n_{} ='.format(s), len(non_sums))\n",
    "print('N_{} ='.format(s), max(non_sums))"
   ]
  },
  {
   "cell_type": "code",
   "execution_count": 7,
   "metadata": {},
   "outputs": [
    {
     "name": "stdout",
     "output_type": "stream",
     "text": [
      "n_8 = 414\n",
      "N_8 = 4005819\n"
     ]
    }
   ],
   "source": [
    "#List of polygonal numbers\n",
    "s=8\n",
    "polygon_num_list = [(s-2)*x*(x-1)/2+x for x in range(0, round(limit**0.5)+2)]\n",
    "\n",
    "#Generate set of numbers not expressible as a sum\n",
    "non_sums = set()\n",
    "for target in range(1,limit+1):\n",
    "    not_sum = True\n",
    "    for polygon_num in polygon_num_list:\n",
    "        if polygon_num > target:\n",
    "            break\n",
    "        if target - polygon_num in practical_numbers_set:\n",
    "            not_sum = False\n",
    "            break\n",
    "    if not_sum:\n",
    "        non_sums.add(target)\n",
    "\n",
    "print('n_{} ='.format(s), len(non_sums))\n",
    "print('N_{} ='.format(s), max(non_sums))"
   ]
  },
  {
   "cell_type": "code",
   "execution_count": 8,
   "metadata": {},
   "outputs": [
    {
     "name": "stdout",
     "output_type": "stream",
     "text": [
      "n_9 = 186\n",
      "N_9 = 325808\n"
     ]
    }
   ],
   "source": [
    "#List of polygonal numbers\n",
    "s=9\n",
    "polygon_num_list = [(s-2)*x*(x-1)/2+x for x in range(0, round(limit**0.5)+2)]\n",
    "\n",
    "#Generate set of numbers not expressible as a sum\n",
    "non_sums = set()\n",
    "for target in range(1,limit+1):\n",
    "    not_sum = True\n",
    "    for polygon_num in polygon_num_list:\n",
    "        if polygon_num > target:\n",
    "            break\n",
    "        if target - polygon_num in practical_numbers_set:\n",
    "            not_sum = False\n",
    "            break\n",
    "    if not_sum:\n",
    "        non_sums.add(target)\n",
    "\n",
    "print('n_{} ='.format(s), len(non_sums))\n",
    "print('N_{} ='.format(s), max(non_sums))"
   ]
  },
  {
   "cell_type": "code",
   "execution_count": 9,
   "metadata": {},
   "outputs": [
    {
     "name": "stdout",
     "output_type": "stream",
     "text": [
      "n_10 = 341\n",
      "N_10 = 13613213\n"
     ]
    }
   ],
   "source": [
    "#List of polygonal numbers\n",
    "s=10\n",
    "polygon_num_list = [(s-2)*x*(x-1)/2+x for x in range(0, round(limit**0.5)+2)]\n",
    "\n",
    "#Generate set of numbers not expressible as a sum\n",
    "non_sums = set()\n",
    "for target in range(1,limit+1):\n",
    "    not_sum = True\n",
    "    for polygon_num in polygon_num_list:\n",
    "        if polygon_num > target:\n",
    "            break\n",
    "        if target - polygon_num in practical_numbers_set:\n",
    "            not_sum = False\n",
    "            break\n",
    "    if not_sum:\n",
    "        non_sums.add(target)\n",
    "\n",
    "print('n_{} ='.format(s), len(non_sums))\n",
    "print('N_{} ='.format(s), max(non_sums))"
   ]
  },
  {
   "cell_type": "code",
   "execution_count": 10,
   "metadata": {},
   "outputs": [
    {
     "name": "stdout",
     "output_type": "stream",
     "text": [
      "n_11 = 68\n",
      "N_11 = 105712\n"
     ]
    }
   ],
   "source": [
    "#List of polygonal numbers\n",
    "s=11\n",
    "polygon_num_list = [(s-2)*x*(x-1)/2+x for x in range(0, round(limit**0.5)+2)]\n",
    "\n",
    "#Generate set of numbers not expressible as a sum\n",
    "non_sums = set()\n",
    "for target in range(1,limit+1):\n",
    "    not_sum = True\n",
    "    for polygon_num in polygon_num_list:\n",
    "        if polygon_num > target:\n",
    "            break\n",
    "        if target - polygon_num in practical_numbers_set:\n",
    "            not_sum = False\n",
    "            break\n",
    "    if not_sum:\n",
    "        non_sums.add(target)\n",
    "\n",
    "print('n_{} ='.format(s), len(non_sums))\n",
    "print('N_{} ='.format(s), max(non_sums))"
   ]
  },
  {
   "cell_type": "code",
   "execution_count": 11,
   "metadata": {},
   "outputs": [
    {
     "name": "stdout",
     "output_type": "stream",
     "text": [
      "n_12 = 16663689\n",
      "N_12 = 99999998\n"
     ]
    }
   ],
   "source": [
    "#List of polygonal numbers\n",
    "s=12\n",
    "polygon_num_list = [(s-2)*x*(x-1)/2+x for x in range(0, round(limit**0.5)+2)]\n",
    "\n",
    "#Generate set of numbers not expressible as a sum\n",
    "non_sums = set()\n",
    "for target in range(1,limit+1):\n",
    "    not_sum = True\n",
    "    for polygon_num in polygon_num_list:\n",
    "        if polygon_num > target:\n",
    "            break\n",
    "        if target - polygon_num in practical_numbers_set:\n",
    "            not_sum = False\n",
    "            break\n",
    "    if not_sum:\n",
    "        non_sums.add(target)\n",
    "\n",
    "print('n_{} ='.format(s), len(non_sums))\n",
    "print('N_{} ='.format(s), max(non_sums))"
   ]
  },
  {
   "cell_type": "code",
   "execution_count": 12,
   "metadata": {},
   "outputs": [
    {
     "name": "stdout",
     "output_type": "stream",
     "text": [
      "n_13 = 609\n",
      "N_13 = 1612172\n"
     ]
    }
   ],
   "source": [
    "#List of polygonal numbers\n",
    "s=13\n",
    "polygon_num_list = [(s-2)*x*(x-1)/2+x for x in range(0, round(limit**0.5)+2)]\n",
    "\n",
    "#Generate set of numbers not expressible as a sum\n",
    "non_sums = set()\n",
    "for target in range(1,limit+1):\n",
    "    not_sum = True\n",
    "    for polygon_num in polygon_num_list:\n",
    "        if polygon_num > target:\n",
    "            break\n",
    "        if target - polygon_num in practical_numbers_set:\n",
    "            not_sum = False\n",
    "            break\n",
    "    if not_sum:\n",
    "        non_sums.add(target)\n",
    "\n",
    "print('n_{} ='.format(s), len(non_sums))\n",
    "print('N_{} ='.format(s), max(non_sums))"
   ]
  },
  {
   "cell_type": "code",
   "execution_count": 13,
   "metadata": {},
   "outputs": [
    {
     "name": "stdout",
     "output_type": "stream",
     "text": [
      "n_14 = 79\n",
      "N_14 = 106878\n"
     ]
    }
   ],
   "source": [
    "#List of polygonal numbers\n",
    "s=14\n",
    "polygon_num_list = [(s-2)*x*(x-1)/2+x for x in range(0, round(limit**0.5)+2)]\n",
    "\n",
    "#Generate set of numbers not expressible as a sum\n",
    "non_sums = set()\n",
    "for target in range(1,limit+1):\n",
    "    not_sum = True\n",
    "    for polygon_num in polygon_num_list:\n",
    "        if polygon_num > target:\n",
    "            break\n",
    "        if target - polygon_num in practical_numbers_set:\n",
    "            not_sum = False\n",
    "            break\n",
    "    if not_sum:\n",
    "        non_sums.add(target)\n",
    "\n",
    "print('n_{} ='.format(s), len(non_sums))\n",
    "print('N_{} ='.format(s), max(non_sums))"
   ]
  },
  {
   "cell_type": "code",
   "execution_count": 14,
   "metadata": {},
   "outputs": [
    {
     "name": "stdout",
     "output_type": "stream",
     "text": [
      "n_15 = 767\n",
      "N_15 = 1486748\n"
     ]
    }
   ],
   "source": [
    "#List of polygonal numbers\n",
    "s=15\n",
    "polygon_num_list = [(s-2)*x*(x-1)/2+x for x in range(0, round(limit**0.5)+2)]\n",
    "\n",
    "#Generate set of numbers not expressible as a sum\n",
    "non_sums = set()\n",
    "for target in range(1,limit+1):\n",
    "    not_sum = True\n",
    "    for polygon_num in polygon_num_list:\n",
    "        if polygon_num > target:\n",
    "            break\n",
    "        if target - polygon_num in practical_numbers_set:\n",
    "            not_sum = False\n",
    "            break\n",
    "    if not_sum:\n",
    "        non_sums.add(target)\n",
    "\n",
    "print('n_{} ='.format(s), len(non_sums))\n",
    "print('N_{} ='.format(s), max(non_sums))"
   ]
  },
  {
   "cell_type": "code",
   "execution_count": 15,
   "metadata": {},
   "outputs": [
    {
     "name": "stdout",
     "output_type": "stream",
     "text": [
      "n_16 = 16665797\n",
      "N_16 = 99999998\n"
     ]
    }
   ],
   "source": [
    "#List of polygonal numbers\n",
    "s=16\n",
    "polygon_num_list = [(s-2)*x*(x-1)/2+x for x in range(0, round(limit**0.5)+2)]\n",
    "\n",
    "#Generate set of numbers not expressible as a sum\n",
    "non_sums = set()\n",
    "for target in range(1,limit+1):\n",
    "    not_sum = True\n",
    "    for polygon_num in polygon_num_list:\n",
    "        if polygon_num > target:\n",
    "            break\n",
    "        if target - polygon_num in practical_numbers_set:\n",
    "            not_sum = False\n",
    "            break\n",
    "    if not_sum:\n",
    "        non_sums.add(target)\n",
    "\n",
    "print('n_{} ='.format(s), len(non_sums))\n",
    "print('N_{} ='.format(s), max(non_sums))"
   ]
  },
  {
   "cell_type": "code",
   "execution_count": 16,
   "metadata": {},
   "outputs": [
    {
     "name": "stdout",
     "output_type": "stream",
     "text": [
      "n_17 = 106\n",
      "N_17 = 9314\n"
     ]
    }
   ],
   "source": [
    "#List of polygonal numbers\n",
    "s=17\n",
    "polygon_num_list = [(s-2)*x*(x-1)/2+x for x in range(0, round(limit**0.5)+2)]\n",
    "\n",
    "#Generate set of numbers not expressible as a sum\n",
    "non_sums = set()\n",
    "for target in range(1,limit+1):\n",
    "    not_sum = True\n",
    "    for polygon_num in polygon_num_list:\n",
    "        if polygon_num > target:\n",
    "            break\n",
    "        if target - polygon_num in practical_numbers_set:\n",
    "            not_sum = False\n",
    "            break\n",
    "    if not_sum:\n",
    "        non_sums.add(target)\n",
    "\n",
    "print('n_{} ='.format(s), len(non_sums))\n",
    "print('N_{} ='.format(s), max(non_sums))"
   ]
  },
  {
   "cell_type": "code",
   "execution_count": 17,
   "metadata": {},
   "outputs": [
    {
     "name": "stdout",
     "output_type": "stream",
     "text": [
      "n_18 = 1020\n",
      "N_18 = 8541224\n"
     ]
    }
   ],
   "source": [
    "#List of polygonal numbers\n",
    "s=18\n",
    "polygon_num_list = [(s-2)*x*(x-1)/2+x for x in range(0, round(limit**0.5)+2)]\n",
    "\n",
    "#Generate set of numbers not expressible as a sum\n",
    "non_sums = set()\n",
    "for target in range(1,limit+1):\n",
    "    not_sum = True\n",
    "    for polygon_num in polygon_num_list:\n",
    "        if polygon_num > target:\n",
    "            break\n",
    "        if target - polygon_num in practical_numbers_set:\n",
    "            not_sum = False\n",
    "            break\n",
    "    if not_sum:\n",
    "        non_sums.add(target)\n",
    "\n",
    "print('n_{} ='.format(s), len(non_sums))\n",
    "print('N_{} ='.format(s), max(non_sums))"
   ]
  }
 ],
 "metadata": {
  "kernelspec": {
   "display_name": "base",
   "language": "python",
   "name": "python3"
  },
  "language_info": {
   "codemirror_mode": {
    "name": "ipython",
    "version": 3
   },
   "file_extension": ".py",
   "mimetype": "text/x-python",
   "name": "python",
   "nbconvert_exporter": "python",
   "pygments_lexer": "ipython3",
   "version": "3.11.5"
  }
 },
 "nbformat": 4,
 "nbformat_minor": 2
}
